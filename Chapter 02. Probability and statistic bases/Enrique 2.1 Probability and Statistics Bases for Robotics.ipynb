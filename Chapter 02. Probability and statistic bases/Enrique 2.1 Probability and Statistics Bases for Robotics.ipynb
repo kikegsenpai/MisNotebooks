{
 "cells": [
  {
   "cell_type": "markdown",
   "metadata": {},
   "source": [
    "\n",
    "# 2.1 Probability and Statistics Bases for Robotics\n",
    "\n",
    "The field of robotics has found great success using a probabilistic approach to handle uncertainty.\n",
    "In contrast to industrial robots, which reside in controlled environments, mobile robots (the focus of this book) have to adapt to additional detrimental factors such as: dynamic environments, sensor disturbances, or unreliable movement systems.\n",
    "\n",
    "The core principle of this **probabilistic robotics** is to represent this uncertainty as probability distribution. In most cases we will use the observations from the environment (usually denoted as $z_n$), to estimate the most probable state ($x_n$) and how certain this prediction is ($\\Sigma_{x_n}$).\n",
    "\n",
    "In the series of notebooks in this chapter we will overview the **gaussian distribution**, one of the most used probability distributions!"
   ]
  },
  {
   "cell_type": "code",
   "execution_count": 1,
   "metadata": {},
   "outputs": [],
   "source": [
    "# IMPORTED LIBS\n",
    "\n",
    "import numpy as np\n",
    "from numpy import random\n",
    "import matplotlib.pyplot as plt\n",
    "\n",
    "from ipywidgets import interact, interactive, fixed, interact_manual\n",
    "import ipywidgets as widgets"
   ]
  },
  {
   "cell_type": "markdown",
   "metadata": {},
   "source": [
    "## 2.1.1 The gaussian distribution\n",
    "\n",
    "The gaussian distribution (also known as Normal distribution) is caracterized by two parameters:\n",
    "\n",
    "- The **mean** ($\\mu$) is the expected value of the distribution.\n",
    "- The **standard deviation** ($\\sigma$) represents how dispersed are the possible values.\n",
    "\n",
    "The probab1ility distribition function (**pdf**) of a given Gaussian distribution is defined as:\n",
    "\n",
    "$$\n",
    "    N(x | \\mu, \\sigma^2) = \n",
    "        \\frac{1}{\\sqrt{2\\pi\\sigma^2}}\n",
    "        e^{-\\frac{1}{2\\sigma^2}\\left(x - \\mu \\right)^2}\n",
    "$$\n",
    "\n",
    "### **<span style=\"color:green\"><b><i>ASSIGNMENT 1: Computing and plotting gaussians</i></b></span>**\n",
    "\n",
    "Complete the following function in order to plot a gaussian pdf with $\\mu = 2$ and $\\sigma = 1$.\n",
    "\n",
    "Evaluate this gaussian pdf in the interval $x \\in [-5, 5]$, generating 100 samples between those values. \n",
    "\n",
    "<i>Hint: use the [`np.linspace()`](https://numpy.org/doc/stable/reference/generated/numpy.linspace.html) function, which returns evenly spaced numbers over a specified interval. The constant [`np.pi`](https://numpy.org/doc/stable/reference/constants.html) can be also useful.</i>"
   ]
  },
  {
   "cell_type": "code",
   "execution_count": 2,
   "metadata": {},
   "outputs": [],
   "source": [
    "def evaluate_gaussian(mu, sigma, X):\n",
    "    \"\"\"Evaluates a gaussian distribution between in the given points\n",
    "    \n",
    "    Args:        \n",
    "        mu: mean of the distribution\n",
    "        sigma: standard deviation of the distribution\n",
    "        X: points where the function is going to be evaluated\n",
    "    \"\"\"\n",
    "    variance = np.power(sigma,2) # Get the variance from the given standar deviation \n",
    "    cte1=1/(np.sqrt(2*np.pi*variance))\n",
    "    cte2=-1/(np.sqrt(2*variance))\n",
    "    res = cte1 *np.exp(cte2 * np.power((X-mu),2)) # Implement the gaussian distribution computation \n",
    "\n",
    "    return res"
   ]
  },
  {
   "cell_type": "code",
   "execution_count": 3,
   "metadata": {},
   "outputs": [
    {
     "data": {
      "image/png": "[encoded data removed]",
      "text/plain": [
       "<Figure size 432x288 with 1 Axes>"
      ]
     },
     "metadata": {
      "needs_background": "light"
     },
     "output_type": "display_data"
    }
   ],
   "source": [
    "# RUN\n",
    "\n",
    "# Gaussian parameters (mean and standard deviation)\n",
    "mu = 2\n",
    "sigma = 1\n",
    "\n",
    "# Create the array of values where the gaussian distribution is going to be evaluated \n",
    "min_interval=-5\n",
    "max_interval=5\n",
    "n_samples=100\n",
    "X = np.linspace(min_interval,max_interval,n_samples)\n",
    "\n",
    "# Call the function and plot the results\n",
    "res = evaluate_gaussian(mu, sigma, X)\n",
    "plt.plot(X, res, 'r') # Show the results\n",
    "plt.show() # Try what happens if you remove this line ;)"
   ]
  },
  {
   "cell_type": "markdown",
   "metadata": {},
   "source": [
    "### Sampling from a distribution\n",
    "\n",
    "Sampling from a random distribution consists of generating a set of values that follows that random probability distribution to a given extent.\n",
    "\n",
    "This is of special interest because use of sampling in *particle filters*."
   ]
  },
  {
   "cell_type": "markdown",
   "metadata": {},
   "source": [
    "### **<span style=\"color:green\"><b><i>ASSIGNMENT 2: Sampling from gaussians</i></b></span>**\n",
    "\n",
    "Use the function [`randn()`](https://numpy.org/doc/stable/reference/random/generated/numpy.random.randn.html) in the `random` module of numpy. \n",
    "\n",
    "This module contains functions to do sampling for a variety of random distributions. You can find additional documentation here: [Link](https://docs.scipy.org/doc/numpy/reference/routines.random.html)\n",
    "\n",
    "Sample a gaussian distribution with $\\mu = 2$ and $\\sigma = 2$. Then plot the resulting values along the x axis. \n",
    "\n",
    "![Example of a possible result](images/fig2-1-3.png)"
   ]
  },
  {
   "cell_type": "code",
   "execution_count": 4,
   "metadata": {},
   "outputs": [],
   "source": [
    "def gen_samples(n, mu, sigma):\n",
    "    \"\"\"Generate n samples of a gaussian distribution\n",
    "    \n",
    "    Args:\n",
    "        n: Number of samples\n",
    "        mu: mean of the distribution\n",
    "        sigma: standard deviation of the distribution\n",
    "\n",
    "    Returns:\n",
    "        array of samples\n",
    "    \"\"\"\n",
    "    \n",
    "    samples = np.random.normal(mu, sigma,n)\n",
    "    return samples"
   ]
  },
  {
   "cell_type": "code",
   "execution_count": 5,
   "metadata": {},
   "outputs": [
    {
     "data": {
      "text/plain": [
       "<matplotlib.collections.PathCollection at 0x7f842b524510>"
      ]
     },
     "execution_count": 5,
     "metadata": {},
     "output_type": "execute_result"
    },
    {
     "data": {
      "image/png": "[encoded data removed]",
      "text/plain": [
       "<Figure size 432x288 with 1 Axes>"
      ]
     },
     "metadata": {
      "needs_background": "light"
     },
     "output_type": "display_data"
    }
   ],
   "source": [
    "# RUN\n",
    "# RUN\n",
    "num = 100\n",
    "mu = 2\n",
    "sigma = 2\n",
    "plt.scatter(gen_samples(num, mu, sigma), np.zeros(num))"
   ]
  },
  {
   "cell_type": "markdown",
   "metadata": {},
   "source": [
    "### <font color=\"blue\"><b><i>Thinking about it (1)</i></b></font>\n",
    "\n",
    "Having completed the code above, you will be able to **answer the following questions**:\n",
    "\n",
    "- Which value do the samples concentrate around? Why?\n",
    "\n",
    "    <p style=\"margin: 4px 0px 6px 5px; color:blue\"><i>2, because it’s the mean of the Gaussian distribution</i></p>\n",
    "\n",
    "- Why we observe less samples the further they are from that value??\n",
    "\n",
    "    <p style=\"margin: 4px 0px 6px 5px; color:blue\"><i>Because of the bell shape in the distribution which groups most of the samples in the middle of it, near the aforementioned mean, making the extreme values less populated </i></p>"
   ]
  },
  {
   "cell_type": "markdown",
   "metadata": {},
   "source": [
    "Indeed, if we keep sampling the distribution and build an histogram of the obtained samples, the resulting histogram will be similar to its respective gaussian given a large enough number of samples. "
   ]
  },
  {
   "cell_type": "markdown",
   "metadata": {},
   "source": [
    "### **<span style=\"color:green\"><b><i>ASSIGNMENT 3: Building an histogram of samples</i></b></span>**\n",
    "\n",
    "For checking this, we ask you to:\n",
    "\n",
    "1. Create a large sample vector, i.e. size 1000.\n",
    "\n",
    "2. Then, complete the function `hist_slice()`, which takes an array of samples and an integer `n`. This function plots the first `n` values of the array as a **histogram**.\n",
    "\n",
    "3. To show the results of the exercise we will employ the use of Jupyter widgets. You can find more info about them here [[link]](https://ipywidgets.readthedocs.io/en/latest/index.html), but for the time being use the commented call to `interact`.\n",
    "\n",
    "Play around with different parameters of the [`plt.hist()`](https://matplotlib.org/api/_as_gen/matplotlib.pyplot.hist.html?highlight=hist#matplotlib.pyplot.hist) function from matplotlib.\n",
    "\n",
    "The bars of the histogram should be normalized by the total area. (HINT: Set the optional `density` and `stacked` parameters of `hist()` to True)\n",
    "\n",
    "![](images/fig2-1-4.png)"
   ]
  },
  {
   "cell_type": "code",
   "execution_count": 30,
   "metadata": {},
   "outputs": [],
   "source": [
    "def hist_slice(samples, n):\n",
    "    \"\"\"Plot histogram for the first n values in samples\"\"\"        \n",
    "    X = np.linspace(-5., 8., 100)\n",
    "    plt.plot(X, evaluate_gaussian(2, 2, X), 'r')\n",
    "    plt.hist(samples[:n], bins=40, edgecolor='black', density=True, stacked=True)\n",
    "    plt.xlabel(\"Samples for N = %d\" % (len(samples[:n])))\n",
    "    plt.show()"
   ]
  },
  {
   "cell_type": "code",
   "execution_count": 31,
   "metadata": {},
   "outputs": [
    {
     "data": {
      "image/png": "[encoded data removed]",
      "text/plain": [
       "<Figure size 432x288 with 1 Axes>"
      ]
     },
     "metadata": {
      "needs_background": "light"
     },
     "output_type": "display_data"
    }
   ],
   "source": [
    "# RUN\n",
    "random.seed(0)\n",
    "samples = gen_samples(1000, 2, 2)\n",
    "n = 100\n",
    "hist_slice(samples, n)"
   ]
  },
  {
   "cell_type": "code",
   "execution_count": 32,
   "metadata": {},
   "outputs": [
    {
     "data": {
      "application/vnd.jupyter.widget-view+json": {
       "model_id": "8bec9e6e6d1e4b9b87a7755dec39e32d",
       "version_major": 2,
       "version_minor": 0
      },
      "text/plain": [
       "interactive(children=(IntSlider(value=500, description='n', max=1000, min=100, step=100), Output()), _dom_clas…"
      ]
     },
     "metadata": {},
     "output_type": "display_data"
    },
    {
     "data": {
      "text/plain": [
       "<function __main__.hist_slice(samples, n)>"
      ]
     },
     "execution_count": 32,
     "metadata": {},
     "output_type": "execute_result"
    }
   ],
   "source": [
    "# RUN\n",
    "interact(hist_slice, samples=fixed(samples), n=(100, 1000, 100))"
   ]
  },
  {
   "cell_type": "markdown",
   "metadata": {},
   "source": [
    "## 2.1.2 Properties of the Gaussian distribution\n",
    "\n",
    "Once we have acquired a certain amount of familiarity with the gaussian distribution, we can go along some of its principal properties, which are the main reason of this distribution's wide usage in robotics."
   ]
  },
  {
   "cell_type": "code",
   "execution_count": null,
   "metadata": {},
   "outputs": [],
   "source": [
    "# Imports\n",
    "\n",
    "from scipy import stats\n",
    "from scipy import signal"
   ]
  },
  {
   "cell_type": "markdown",
   "metadata": {},
   "source": [
    "### Central limit theorem\n",
    "\n",
    "**Property.** The sum of N independent and identically distributed (i.i.d.) random variables, i.e. that belong to the same distribution and are independant to each other, becomes increasingly Gaussian the larger is N.\n",
    "\n",
    "This property holds true regardless of the probability distribution was used to create the samples. It is one of the key concepts in probability, as it allows the generalization of many problems.\n",
    "\n",
    "You can see a video demonstration of this by running the cell bellow:"
   ]
  },
  {
   "cell_type": "code",
   "execution_count": 24,
   "metadata": {},
   "outputs": [
    {
     "data": {
      "text/html": [
       "<center>\n",
       "<iframe width=\"560\" height=\"315\" src=\"https://www.youtube.com/embed/dlbkaurTAUg?autoplay=0&mute=1\" frameborder=\"0\" allow=\"accelerometer; autoplay; encrypted-media; gyroscope; picture-in-picture\" allowfullscreen></iframe>\n",
       "</center>\n"
      ],
      "text/plain": [
       "<IPython.core.display.HTML object>"
      ]
     },
     "metadata": {},
     "output_type": "display_data"
    }
   ],
   "source": [
    "%%HTML\n",
    "<center>\n",
    "<iframe width=\"560\" height=\"315\" src=\"https://www.youtube.com/embed/dlbkaurTAUg?autoplay=0&mute=1\" frameborder=\"0\" allow=\"accelerometer; autoplay; encrypted-media; gyroscope; picture-in-picture\" allowfullscreen></iframe>\n",
    "</center>"
   ]
  },
  {
   "cell_type": "markdown",
   "metadata": {},
   "source": [
    "### **<span style=\"color:green\"><b><i>ASSIGNMENT 4: Verifying the central limit theorem</i></b></span>**\n",
    "\n",
    "We ask you to create a similar demonstration as the example above.\n",
    "\n",
    "- Complete the following `plot_sum_demo` function. This function returns a vector of length `v_length`, which results from the sum of `N` randomly generated vectors using an uniform distribution $[0, 1)$. Each random vector should have the same length (for example `v_lenght=100`).\n",
    "- Inside the function, plot the corresponding histogram.\n",
    "- Finally, check that the resulting figure has the shape of a gaussian. "
   ]
  },
  {
   "cell_type": "code",
   "execution_count": null,
   "metadata": {},
   "outputs": [],
   "source": [
    "def plot_sum(v_length, N):\n",
    "    \n",
    "    #create the vector for storing the sums\n",
    "    sum_samples = np.zeros(None)\n",
    "    \n",
    "    # Generate N vectors of samples and sum them within sum_samples\n",
    "    for _ in range(0, None):\n",
    "        sum_samples += random.rand(None)\n",
    "        \n",
    "    # Plot the resultant histogram\n",
    "    plt.hist(None,\n",
    "             bins=25, density=True,\n",
    "             stacked=True, edgecolor='black')    "
   ]
  },
  {
   "cell_type": "code",
   "execution_count": null,
   "metadata": {},
   "outputs": [],
   "source": [
    "# RUN\n",
    "v_length = 1000\n",
    "N = 10\n",
    "plot_sum(v_length, N)"
   ]
  },
  {
   "cell_type": "markdown",
   "metadata": {},
   "source": [
    "Now play a bit with the number of randomly generated vectors"
   ]
  },
  {
   "cell_type": "code",
   "execution_count": null,
   "metadata": {},
   "outputs": [],
   "source": [
    "interact(plot_sum, v_length=fixed(v_length), N=(0, 25, 1))"
   ]
  },
  {
   "cell_type": "markdown",
   "metadata": {},
   "source": [
    "### Product of gaussians\n",
    "\n",
    "The weighted sum of two gaussians, results in a random variable which its the product of both. This product of 2 gaussians is defined as:\n",
    "\n",
    "$$\n",
    "     N\\left(\n",
    "        \\frac{\\sigma_2^2\\mu_1+\\sigma_1^2\\mu_2}\n",
    "        {\\sigma_1^2+\\sigma_2^2},\n",
    "         \\frac{\\sigma_1^2 \\sigma_ 2^2}\n",
    "         {\\sigma_1^2 + \\sigma_ 2^2}\n",
    "     \\right)\n",
    "$$"
   ]
  },
  {
   "cell_type": "markdown",
   "metadata": {},
   "source": [
    "### **<span style=\"color:green\"><b><i>ASSIGNMENT 5: Multiplying gaussians</i></b></span>**\n",
    "\n",
    "Complete the following function to compute the product of two gaussians distributions.\n",
    "\n",
    "Draw the result and check that corresponds to the formula above playing with different distributions.\n",
    "\n",
    "![](images/fig2-2-3.png)"
   ]
  },
  {
   "cell_type": "code",
   "execution_count": null,
   "metadata": {},
   "outputs": [],
   "source": [
    "def gaussians_product(mu1,mu2,sig1,sig2,x):\n",
    "    \n",
    "    var1, var2 = None, None # Get the variances from the standar deviations\n",
    "\n",
    "    X = np.arange(-12, 12, 1/x)\n",
    "    pdf1 = stats.norm(loc=None, scale=None).pdf(None)\n",
    "    pdf2 = stats.norm(loc=None, scale=None).pdf(None)\n",
    "\n",
    "    plt.plot(X, pdf1, label='N({},{})'.format(mu1, sig1))\n",
    "    plt.plot(X, pdf2, label='N({},{})'.format(mu2, sig2))\n",
    "    \n",
    "    # Get the parameters defining the gaussian distribution resulting from their product\n",
    "    mu3 = None\n",
    "    sig3 = None\n",
    "    c = stats.norm(loc=None, scale=None).pdf(X)\n",
    "\n",
    "    plt.plot(X, c, label='Avg. = N({},{})'.format(mu3, sig3))\n",
    "    plt.legend()\n"
   ]
  },
  {
   "cell_type": "code",
   "execution_count": null,
   "metadata": {},
   "outputs": [],
   "source": [
    "mu1, sig1 = 1, 1\n",
    "mu2, sig2 = 4, 2\n",
    "x = 1000    \n",
    "\n",
    "gaussians_product(mu1,mu2,sig1,sig2,x)"
   ]
  },
  {
   "cell_type": "markdown",
   "metadata": {},
   "source": [
    "### Linear transformation of gaussian random variables.\n",
    "\n",
    "**Property.** The gaussian distributions are closed under linear transformations, i.e. when we apply a sum or product to normal random variables, the result is also a normal random variable.\n",
    "\n",
    "This is also a remarkable property, for example in the field of robotics we can *operate normally over random distributions* as long as we only use linear functions.\n",
    "Otherwise, if we are in need to apply a *non-linear transformation* (e.g. sine, cosine, ...), the resulting probability distribution *will not correspond to any Gaussian pdf*, causing additional complications in the process."
   ]
  },
  {
   "cell_type": "markdown",
   "metadata": {},
   "source": [
    "### **<span style=\"color:green\"><b><i>ASSIGNMENT 6: Applying linear transformations</i></b></span>**\n",
    "\n",
    "- Generate a number `n_samples` of random samples from the dist. $N(1,1)$.\n",
    "- Then transform it following the expression $y = a*x + b$ and plot the result for $a=b=2$.\n",
    "- Finally, draw on top the pdf of $N(4,4)$ and check that both are the same.\n",
    "\n",
    "![](images/fig2-2-4.png)"
   ]
  },
  {
   "cell_type": "code",
   "execution_count": null,
   "metadata": {},
   "outputs": [],
   "source": [
    "def linear_transformation(n_samples, a, b):\n",
    "    \"\"\"Apply lineal transform. Generating n_samples samples from N(1,1)\"\"\"\n",
    "    \n",
    "    # Generates n_samples from N(1,1)\n",
    "    mu = None\n",
    "    stdv = None\n",
    "    samples = stats.norm(loc=None, scale=None).rvs(None)\n",
    "    \n",
    "    samples_2 = None # Apply the linear transformation to the samples\n",
    "\n",
    "    # Plot histogram (blue bars)\n",
    "    n, bins, patches = plt.hist(samples_2, bins=90, density=True, stacked=True)\n",
    "\n",
    "    delta = 1/samples.size \n",
    "    X = np.arange(bins[0], bins[-1], delta)\n",
    "    A = stats.norm(loc=None, scale=None).pdf(None) # Evaluate N(1,1) in X\n",
    "    B = stats.norm(loc=None, scale=None).pdf(None) # Evaluate the resultant distribution in X\n",
    "    \n",
    "    # Show results\n",
    "    plt.plot(X, A, color='green', label='N({},{})'.format(mu, stdv))\n",
    "    plt.plot(X, B, color='red', label='N({},{})'.format(a*mu+a, stdv*a))\n",
    "    plt.legend()"
   ]
  },
  {
   "cell_type": "code",
   "execution_count": null,
   "metadata": {},
   "outputs": [],
   "source": [
    "# RUN\n",
    "n_samples = 3000\n",
    "a = 2\n",
    "b = 2\n",
    "linear_transformation(n_samples, a, b)"
   ]
  },
  {
   "cell_type": "markdown",
   "metadata": {},
   "source": [
    "Now play a bit with different values for $a$ and $b$."
   ]
  },
  {
   "cell_type": "code",
   "execution_count": null,
   "metadata": {},
   "outputs": [],
   "source": [
    "interact(linear_transformation, n_samples=fixed(n_samples), b=(-5, 5, 1), a=(1, 10, 1))"
   ]
  },
  {
   "cell_type": "markdown",
   "metadata": {},
   "source": [
    "## 2.1.3 Bidimensional normal distribution\n",
    "\n",
    "Most useful applications of gaussian distributions does not only look at individual distributions or variables, but an assortment of random distributions which can be dependant to each other. Some examples of these *multidimensional distributions* we will use in following exercises are: the pose of a robot $(x, y, \\theta)$, an observation from a series of range sensors $([z_0, z_1, \\dots, z_n])$, among others. \n",
    "\n",
    "In the specific case of Gaussian distributions they present certain key differences:\n",
    "\n",
    "- The *mean* $(\\mu)$ now it contains a vector of $n$ values $([\\mu_1, \\mu_2, \\dots, \\mu_n]')$. Its dimensionality/shape is $(n \\times 1)$, i.e. is a vertical vector.\n",
    "- The *covariance* (now referred as $\\Sigma$) is a full-blown matrix of shape $(n \\times n)$. The case being, now we need to express the relations (i.e. dependence) of each variable to the rest."
   ]
  },
  {
   "cell_type": "code",
   "execution_count": null,
   "metadata": {},
   "outputs": [],
   "source": [
    "# Imports\n",
    "from numpy import linalg\n",
    "import sys\n",
    "sys.path.append(\"..\")\n",
    "from utils.PlotEllipse import PlotEllipse"
   ]
  },
  {
   "cell_type": "markdown",
   "metadata": {},
   "source": [
    "## Sum of bidimensional random variables\n",
    "\n",
    "In this exercise, we will take a look at how gaussians beheave when we sum 2 multidimensional random variables (*RV*).\n",
    "\n",
    "Given the sum of 2 multidimensional gaussian RVs $(X_1, X_2)$, the resulting RV $(X_3)$ also follows a gaussian distribution defined as:\n",
    "\n",
    "$$\n",
    "    \\left.\n",
    "    \\begin{aligned}\n",
    "    X_1 &\\sim N(\\mu_1, \\Sigma_1) \\\\\n",
    "    X_2 &\\sim N(\\mu_2, \\Sigma_2) \\\\\n",
    "    X_3 &= X_1 + X_2\n",
    "    \\end{aligned}\n",
    "    \\enspace\\right\\}\\enspace \n",
    "    X_3 \\sim N(\\mu_1 + \\mu_2, \\Sigma_1 + \\Sigma_2)\n",
    "$$"
   ]
  },
  {
   "cell_type": "markdown",
   "metadata": {},
   "source": [
    "### **<span style=\"color:green\"><b><i>ASSIGNMENT 7: Summing linear transformations</i></b></span>**\n",
    "\n",
    "1. Generate and draw `n_samples` random samples from 2 different bidimensional dists. $N_1=N(\\mu_1,\\Sigma_1)$ y $N_2=N(\\mu_2,\\Sigma_2)$. The *mean* $(\\mu_n)$ is a vector of dimension $(2 \\times 1)$ and the *covariance* $(\\sigma_n)$ a matrix $(2 \\times 2)$. They represent the mean and covariance of each dist. respectively. Use the function `multivariate_normal` from the module **scipy.stats**.\n",
    "2. Draw both ellipses associated with each distribution. Use `PlotEllipse()` from the utils library that comes with these notebooks.\n",
    "3. Sum both samples and draw the ellipse $x_3 \\sim N(\\mu_1+\\mu_2, \\Sigma_1+\\Sigma_2)$\n",
    "\n",
    "WARN: When passing the mean to the `PlotEllipse()` function, it takes a vector $(2 \\times 1)$, whereas `multivariate_normal()` takes a flat array $(1 \\times 2).$\n",
    "\n",
    "**Example**\n",
    "\n",
    "Results for an example:\n",
    "\n",
    "```python\n",
    "    n_samples = 500\n",
    "    \n",
    "    mean1 = np.vstack([1, 0])\n",
    "    sigma1 = np.array([[3, 2], [2, 3]])\n",
    "    mean2 = np.vstack([2, 3])\n",
    "    sigma2 = np.array([[2, 0], [0, 1]]) \n",
    "```\n",
    "\n",
    "<figure style=\"text-align:center\">\n",
    "  <img src=\"images/fig2-3-1.png\" alt=\"\">\n",
    "  <figcaption>Fig. 1: Distribution of the sum of two RVs (in blue and red)</figcaption>\n",
    "</figure>"
   ]
  },
  {
   "cell_type": "code",
   "execution_count": null,
   "metadata": {},
   "outputs": [],
   "source": [
    "def sum_of_rvs(mean1,sigma1,mean2,sigma2,n_samples):\n",
    "    \n",
    "    fig, ax = plt.subplots()\n",
    "\n",
    "    # Build the normal distributions\n",
    "    pdf1 = stats.multivariate_normal(mean=None, cov=None) # Hint: you have to use .flatten()\n",
    "    pdf2 = stats.multivariate_normal(None, None)\n",
    "\n",
    "    # Generate n_samples from them\n",
    "    rvs1 = None\n",
    "    rvs2 = None\n",
    "\n",
    "    # Draw samples as crosses\n",
    "    plt.scatter(None, None, marker='+', label=\"N1\")\n",
    "    plt.scatter(None, None, marker='+', color='red', label=\"N2\")\n",
    "\n",
    "    # Draw ellipses\n",
    "    mult = 2\n",
    "    PlotEllipse(fig, ax, mean1, sigma1, mult, color='blue')\n",
    "    PlotEllipse(fig, ax, mean2, sigma2, mult, color='red')\n",
    "\n",
    "    # Compute and draw N1 + N2\n",
    "    rvs3 = None\n",
    "    plt.scatter(rvs3[:,0],rvs3[:,1], marker='+',color='magenta', label=\"N1+N2\")\n",
    "    PlotEllipse(fig, ax, None, None, mult, color='magenta')\n",
    "    plt.legend()"
   ]
  },
  {
   "cell_type": "code",
   "execution_count": null,
   "metadata": {},
   "outputs": [],
   "source": [
    "n_samples = 500\n",
    "mean1 = np.vstack([1, 0])\n",
    "sigma1 = np.array([[3, 2], [2, 3]])\n",
    "mean2 = np.vstack([2, 3])\n",
    "sigma2 = np.array([[2, 0], [0, 1]])\n",
    "\n",
    "sum_of_rvs(mean1,sigma1,mean2,sigma2,n_samples)"
   ]
  },
  {
   "cell_type": "markdown",
   "metadata": {},
   "source": [
    "## Product of gaussian pdfs\n",
    "\n",
    "The product of two gaussian distributions (*pdfs*) is also a gaussian distribution.\n",
    "This distribution corresponds to the weighted mean of samples from that same *pdfs*.\n",
    "\n",
    "Given two gaussian distributions $N_1 \\sim N(\\mu_1, \\Sigma_1)$ and $N_2 \\sim N(\\mu_2, \\Sigma_2)$, the resulting gaussian $N_3$ is defined as:\n",
    "\n",
    "$$\n",
    "\\begin{equation}\n",
    "    \\Sigma_3 = (\\Sigma_1^{-1} +\\Sigma_2^{-1} )^{-1} \\\\\n",
    "    \\mu_3 =\n",
    "           \\Sigma_3\n",
    "        \\left(\n",
    "            \\Sigma_2^{-1} \\mu_1 + \\Sigma_1^{-1} \\mu_2\n",
    "        \\right)\\\\\n",
    "     N_3 =\n",
    "         \\left(\n",
    "             \\mu_3,\n",
    "             \\Sigma_3\n",
    "         \\right)\n",
    "\\end{equation}\n",
    "$$"
   ]
  },
  {
   "cell_type": "markdown",
   "metadata": {},
   "source": [
    "### **<span style=\"color:green\"><b><i>ASSIGNMENT 8: Multiplying bidimensional distributions</i></b></span>**\n",
    "\n",
    "Given the two samples from the previous exercise, draw the ellipse (corresponding gaussian) that represents their weighted mean.\n",
    "\n",
    "**Example**\n",
    "\n",
    "<figure style=\"text-align:center\">\n",
    "  <img src=\"images/fig2-3-2.png\" alt=\"Trulli\">\n",
    "  <figcaption>Fig. 2: Product of two pdfs (in blue and green)</figcaption>\n",
    "</figure> "
   ]
  },
  {
   "cell_type": "code",
   "execution_count": null,
   "metadata": {},
   "outputs": [],
   "source": [
    "def bidimensional_gaussians_product(mean1,sigma1,mean2,sigma2,n_samples):\n",
    "\n",
    "    fig, ax = plt.subplots()\n",
    "    \n",
    "    # Build the normal distributions\n",
    "    pdf1 = stats.multivariate_normal(None, None)\n",
    "    pdf2 = stats.multivariate_normal(None, None)\n",
    "\n",
    "    # Generate n_samples \n",
    "    rvs1 = None\n",
    "    rvs2 = None\n",
    "    \n",
    "    # Draw the samples\n",
    "    plt.scatter(None, None, marker='+', color='green')\n",
    "    plt.scatter(None, None, marker='+', color='blue')\n",
    "   \n",
    "    # Calculate average of distributions\n",
    "    invs1 = None # Hint use linalg.inv\n",
    "    invs2 = None\n",
    "\n",
    "    sigma3 = None\n",
    "    mean3 = None # Hint: use the @ operator\n",
    "\n",
    "    # Plot the ellipses\n",
    "    mult = 2\n",
    "    PlotEllipse(fig, ax, None, None, mult, color='green')\n",
    "    PlotEllipse(fig, ax, None, None, mult, color='blue')\n",
    "    PlotEllipse(fig, ax, None, None, mult*1.5, color='magenta') "
   ]
  },
  {
   "cell_type": "code",
   "execution_count": null,
   "metadata": {},
   "outputs": [],
   "source": [
    "n_samples = 500\n",
    "mean1 = np.vstack([1, 0])\n",
    "sigma1 = np.array([[3, 2], [2, 3]])\n",
    "mean2 = np.vstack([2, 3])\n",
    "sigma2 = np.array([[2, 0], [0, 1]])\n",
    "\n",
    "bidimensional_gaussians_product(mean1,sigma1,mean2,sigma2,n_samples)"
   ]
  },
  {
   "cell_type": "markdown",
   "metadata": {},
   "source": [
    "### Linear transformation of normal RVs\n",
    "\n",
    "As we mentioned at the start of this unit, when we linearly transform a gaussian random variable, the result is still a gaussian. This is a very desirable property to have, as it allows us to operate normally, as long as the functions are linear."
   ]
  },
  {
   "cell_type": "markdown",
   "metadata": {},
   "source": [
    "### **<span style=\"color:green\"><b><i>ASSIGNMENT 9: Applying linear transformation to bidimensional distributions</i></b></span>**\n",
    "\n",
    "Using the previous samples $x_1$, check that the transformation $x_5 = A*x_1 +b$ results in a normal dist. $N(A \\mu_1+b, A \\Sigma_1 A^T)$. Given the matrices `A` and `b` in the code below.\n",
    "\n",
    "**Example**\n",
    "\n",
    "Example of the result at scale=2.5 and the values given below:\n",
    "\n",
    "<figure style=\"text-align:center\">\n",
    "  <img src=\"images/fig2-3-3.png\" alt=\"\">\n",
    "  <figcaption>Fig. 3: Linear transformation of RVs. Original samples (in blue) and results (in magenta)</figcaption>\n",
    "</figure>"
   ]
  },
  {
   "cell_type": "code",
   "execution_count": null,
   "metadata": {},
   "outputs": [],
   "source": [
    "def linear_transform_demo(mean1,sigma1,mean2,sigma2,n_samples):\n",
    "    \n",
    "    fig, ax = plt.subplots()\n",
    "    \n",
    "    # Define the linear transformation\n",
    "    A = np.array([[-1, 2], [2, 1.5]])\n",
    "    b = np.vstack([3, 0])\n",
    "\n",
    "    # Build distribution\n",
    "    pdf1 = stats.multivariate_normal(None, None)\n",
    "\n",
    "    # Draw samples from it\n",
    "    rvs1 = pdf1.rvs(None).T\n",
    "\n",
    "    # Show the samples\n",
    "    ax.set_xlim((-16, 20))\n",
    "    ax.set_ylim((-11, 16))\n",
    "    ax.scatter(None, None, marker='+', label=\"x1\")\n",
    "\n",
    "    # Apply linear transformation transformacion lineal\n",
    "    x5 = A@rvs1+b # Hint: use the @ operator\n",
    "\n",
    "    # Show the new samples and its ellipse\n",
    "    ax.scatter(None, None, marker='.', color='magenta', label='A*x1+b')\n",
    "    PlotEllipse(fig, ax, None, None, 2.5, color='magenta')\n",
    "    ax.legend()"
   ]
  },
  {
   "cell_type": "code",
   "execution_count": null,
   "metadata": {},
   "outputs": [],
   "source": [
    "n_samples = 500\n",
    "mean1 = np.vstack([1, 0])\n",
    "sigma1 = np.array([[3, 2], [2, 3]])\n",
    "mean2 = np.vstack([2, 3])\n",
    "sigma2 = np.array([[2, 0], [0, 1]])\n",
    "    \n",
    "bidimensional_linear_transform(mean1,sigma1,mean2,sigma2,n_samples)"
   ]
  },
  {
   "cell_type": "markdown",
   "metadata": {},
   "source": [
    "## Student discussion\n",
    "In the cell below, discuss what has been done in the notebook, what you have found interesting, or any other relevant thought."
   ]
  },
  {
   "cell_type": "markdown",
   "metadata": {},
   "source": [
    "<span style=\"color:green\">***Write your answer here***</span>"
   ]
  }
 ],
 "metadata": {
  "kernelspec": {
   "display_name": "Python 3",
   "language": "python",
   "name": "python3"
  },
  "language_info": {
   "codemirror_mode": {
    "name": "ipython",
    "version": 3
   },
   "file_extension": ".py",
   "mimetype": "text/x-python",
   "name": "python",
   "nbconvert_exporter": "python",
   "pygments_lexer": "ipython3",
   "version": "3.7.8"
  }
 },
 "nbformat": 4,
 "nbformat_minor": 2
}
